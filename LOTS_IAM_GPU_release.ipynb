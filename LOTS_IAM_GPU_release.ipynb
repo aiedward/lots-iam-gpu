{
 "cells": [
  {
   "cell_type": "markdown",
   "metadata": {},
   "source": [
    "# Importing libraries\n",
    "\n",
    "Note(s) for user:\n",
    "1. Just run this part. No change is needed.\n",
    "2. Wait for 'Initialisation is done..' is printed before continuing.\n",
    "3. To run this cell section, click 'Run' button.\n",
    "4. If you want to clear the output to run pristine conde, choose 'Kernel' > 'Restart & Clear Output'."
   ]
  },
  {
   "cell_type": "code",
   "execution_count": null,
   "metadata": {},
   "outputs": [],
   "source": [
    "from IAM_GPU_lib import *\n",
    "\n",
    "print('Check OpenCV version: ' + cv2.__version__ + '\\n')\n",
    "print(cuda.current_context().get_memory_info())\n",
    "print('Initialisation is done..\\n')"
   ]
  },
  {
   "cell_type": "markdown",
   "metadata": {},
   "source": [
    "# List of MRI data that will be processed using IAM\n",
    "\n",
    "Note to user: Below is a list of variables that needs to be changed manually.\n",
    "1. 'output_filedir': Full path of IAM results will be stored. Please, make sure that it is accessible.\n",
    "2. 'csv_filename': Filename of CSV file.\n",
    "\n",
    "Another note: To run this cell section, click 'Run' button."
   ]
  },
  {
   "cell_type": "code",
   "execution_count": null,
   "metadata": {
    "scrolled": true
   },
   "outputs": [],
   "source": [
    "## General output full path (note to user: you can change this variable)\n",
    "output_filedir = 'results/IAM_GPU_pipeline_test'\n",
    "\n",
    "## Name of csv file (note to user: you can change this variable)\n",
    "csv_filename = 'IAM_GPU_pipeline_test.csv'\n",
    "\n",
    "# Save JPEG outputs\n",
    "save_jpeg = True\n",
    "\n",
    "## Size of source and target patches\n",
    "## Default: patch_size = [1,2,4,8]\n",
    "patch_size = [1,2,4,8]\n",
    "\n",
    "## Used only for automatic calculation for all number of samples\n",
    "## NOTE: Smaller number of samples makes computation faster (please refer to the manuscript).\n",
    "## Samples used for IAM calculation \n",
    "## Default: num_samples_all = [512]\n",
    "num_samples_all = [64]\n",
    "## Uncomment line below and comment line above if you want to run all different number of samples \n",
    "# num_samples_all = [64, 128, 256, 512, 1024, 2048] \n",
    "\n",
    "num_mean_samples_all = []\n",
    "for sample in num_samples_all:\n",
    "    if sample == 64:\n",
    "        num_mean_samples_all.append(16)\n",
    "    elif sample == 128:\n",
    "        num_mean_samples_all.append(32)\n",
    "    elif sample == 256:\n",
    "        num_mean_samples_all.append(32)\n",
    "    elif sample == 512:\n",
    "        num_mean_samples_all.append(64)\n",
    "    elif sample == 1024:\n",
    "        num_mean_samples_all.append(128)\n",
    "    elif sample == 2048:\n",
    "        num_mean_samples_all.append(128)\n",
    "    else:\n",
    "        raise ValueError(\"Number of samples must be either 64, 128, 256, 512, 1024 or 2048!\")\n",
    "\n",
    "print(\"--- PARAMETERS - CHECKED ---\")\n",
    "print('Output file dir: ' + output_filedir)\n",
    "print('CSV data filename: ' + csv_filename)\n",
    "print('Patch size(s): ' + str(patch_size))\n",
    "print('Number of samples (all): ' + str(num_samples_all))\n",
    "print('Number of mean samples (all): ' + str(num_mean_samples_all))\n",
    "print('Save JPEGs? ' + str(save_jpeg))\n",
    "print(\"--- PARAMETERS - CHECKED ---\")\n",
    "\n",
    "print('--\\nReady..')"
   ]
  },
  {
   "cell_type": "markdown",
   "metadata": {},
   "source": [
    "# Run LOTS-IAM-GPU\n",
    "\n",
    "To run this cell section, click 'Run' button.\n",
    "If you need help, please see run: help(iam_lots_gpu)"
   ]
  },
  {
   "cell_type": "code",
   "execution_count": null,
   "metadata": {},
   "outputs": [],
   "source": [
    "iam_lots_gpu_compute(output_filedir,csv_filename,patch_size,num_samples_all,save_jpeg)"
   ]
  },
  {
   "cell_type": "code",
   "execution_count": null,
   "metadata": {},
   "outputs": [],
   "source": []
  }
 ],
 "metadata": {
  "kernelspec": {
   "display_name": "Python [conda env:IAM_GPU_LINUX_jynb]",
   "language": "python",
   "name": "conda-env-IAM_GPU_LINUX_jynb-py"
  },
  "language_info": {
   "codemirror_mode": {
    "name": "ipython",
    "version": 3
   },
   "file_extension": ".py",
   "mimetype": "text/x-python",
   "name": "python",
   "nbconvert_exporter": "python",
   "pygments_lexer": "ipython3",
   "version": "3.6.5"
  }
 },
 "nbformat": 4,
 "nbformat_minor": 2
}
